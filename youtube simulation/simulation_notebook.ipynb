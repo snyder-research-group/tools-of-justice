{
 "cells": [
  {
   "cell_type": "markdown",
   "metadata": {},
   "source": [
    "# YouTube Simulation (in notebook form)"
   ]
  },
  {
   "cell_type": "markdown",
   "metadata": {},
   "source": [
    "### Initializing environment packages and variables 📚"
   ]
  },
  {
   "cell_type": "code",
   "execution_count": 4,
   "metadata": {},
   "outputs": [],
   "source": [
    "# Importing libraries/packages\n",
    "import random\n",
    "import numpy as np\n",
    "import numpy as np\n",
    "import pandas as pd\n",
    "import seaborn as sns\n",
    "import matplotlib.pyplot as plt\n",
    "\n",
    "# Importing class files\n",
    "from agent import Agent\n",
    "from video import Video\n",
    "from activity import Activity\n",
    "from behavior_reference import BEHAVIOR_ARCHETYPE_PARAMETERS\n",
    "from behavior_reference import AGENT_ARCHETYPE_DISTRIBUTION"
   ]
  },
  {
   "cell_type": "code",
   "execution_count": 3,
   "metadata": {},
   "outputs": [],
   "source": [
    "# Defining our macro values to be referenced later on\n",
    "NUM_VIDEOS = 1000;\n",
    "NUM_AGENTS = 100;"
   ]
  },
  {
   "cell_type": "markdown",
   "metadata": {},
   "source": [
    "### Creation of Video Objects 🎥"
   ]
  },
  {
   "cell_type": "code",
   "execution_count": 5,
   "metadata": {},
   "outputs": [],
   "source": [
    "\n",
    "# Generate random view count (views range from 1 to 1 million)\n",
    "random_view_counts = []\n",
    "for i in range(NUM_VIDEOS):\n",
    "    r = random.randint(1, 1000000)\n",
    "    random_view_counts.append(r)\n",
    "\n",
    "\n",
    "# Generate random (unique) video ids\n",
    "# resultant random numbers list\n",
    "random_video_ids = []\n",
    "# traversing the loop 1000 times\n",
    "for i in range(NUM_VIDEOS):\n",
    "\n",
    "    # r=random.randint(1,100000)\n",
    "    # # checking whether the generated random number is not in the\n",
    "    # # randomList\n",
    "    # if r not in random_video_ids:\n",
    "    #     # appending the random number to the resultant list, if the condition is true\n",
    "        random_video_ids.append(i)\n",
    "\n",
    "\n",
    "# Generate random video length\n",
    "random_vid_lengths = []\n",
    "for i in range(NUM_VIDEOS):\n",
    "    r = random.randint(1, 100)\n",
    "    random_vid_lengths.append(r)\n",
    "\n",
    "# Generate random video extremeness\n",
    "random_extremeness = []\n",
    "for i in range(NUM_VIDEOS):\n",
    "    r = random.randint(0*0,1*10)/10\n",
    "    random_extremeness.append(r)\n",
    "\n",
    "\n",
    "# Generate random number of thumbs up\n",
    "random_thumbs_up = []\n",
    "for i in range(NUM_VIDEOS):\n",
    "    r = random.randint(0, 50000)\n",
    "    random_thumbs_up.append(r)\n",
    "\n",
    "\n",
    "# Use the above arrays to create video objects\n",
    "all_videos = []\n",
    "for i in range(NUM_VIDEOS):   # create 1000 videos\n",
    "\n",
    "\n",
    "    # Grab the data points for the video\n",
    "    views = random_view_counts[i];\n",
    "    vid_id = random_video_ids[i];\n",
    "    length = random_vid_lengths[i];\n",
    "    extremeness = random_extremeness[i];\n",
    "    thumbs_up = random_thumbs_up[i];\n",
    "\n",
    "    # Create the video object\n",
    "    random_vid = Video(views, vid_id, length, extremeness, thumbs_up);\n",
    "\n",
    "    # Add the video object to our array of videos\n",
    "    all_videos.append(random_vid);\n"
   ]
  },
  {
   "cell_type": "markdown",
   "metadata": {},
   "source": [
    "In the cell below, we can test that the video objects are created properly."
   ]
  },
  {
   "cell_type": "code",
   "execution_count": null,
   "metadata": {},
   "outputs": [],
   "source": [
    "# Let's make sure this worked.\n",
    "\n",
    "print(\"Information for the first three videos:\");\n",
    "for i in range(3):\n",
    "    print(\"Views: \" + str(all_videos[i].views));\n",
    "    print(\"Video ID: \" + str(all_videos[i].vid_id));\n",
    "    # print(\"Length: \" + str(all_videos[i].length) +  \" minutes\");\n",
    "    # print(\"Extremeness: \" + str(all_videos[i].extremeness));\n",
    "    # print(\"Thumbs up count: \" + str(all_videos[i].thumbs_up));\n",
    "    # print(\"\");\n",
    "\n",
    "# # Let's test the watch function\n",
    "for i in range(10):\n",
    "    Activity.watch(all_videos[i])"
   ]
  }
 ],
 "metadata": {
  "kernelspec": {
   "display_name": "Python 3",
   "language": "python",
   "name": "python3"
  },
  "language_info": {
   "codemirror_mode": {
    "name": "ipython",
    "version": 3
   },
   "file_extension": ".py",
   "mimetype": "text/x-python",
   "name": "python",
   "nbconvert_exporter": "python",
   "pygments_lexer": "ipython3",
   "version": "3.10.11"
  },
  "orig_nbformat": 4
 },
 "nbformat": 4,
 "nbformat_minor": 2
}
